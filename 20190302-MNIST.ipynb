{
 "cells": [
  {
   "cell_type": "markdown",
   "metadata": {
    "colab_type": "text",
    "id": "cJWZibHLd9SJ"
   },
   "source": [
    "# Note 3/2/2019\n",
    "\n",
    "Accuracies based on various parameters"
   ]
  },
  {
   "cell_type": "markdown",
   "metadata": {
    "colab_type": "text",
    "id": "LMVuL8J1d9SO"
   },
   "source": [
    "In this experiment, we are going to test the synthetic \"MNIST\" dataset, which is (very much) not linearly seperable. "
   ]
  },
  {
   "cell_type": "code",
   "execution_count": 1,
   "metadata": {
    "colab": {
     "base_uri": "https://localhost:8080/",
     "height": 343
    },
    "colab_type": "code",
    "id": "omOoG9CCenpk",
    "outputId": "a041a3b4-a2f7-4238-bd10-f952916a411a"
   },
   "outputs": [],
   "source": [
    "# !git clone https://github.com/wonjunee/mnist_gmu.git\n",
    "\n",
    "\n",
    "  \n",
    "# import os\n",
    "# import shutil\n",
    "# for i in (os.listdir('./mnist_gmu')):\n",
    "#   shutil.move(\"./mnist_gmu/{}\".format(i), \".\")\n",
    "  \n",
    "# for i in (os.listdir('.')):\n",
    "#   print(i)"
   ]
  },
  {
   "cell_type": "code",
   "execution_count": 2,
   "metadata": {
    "colab": {
     "base_uri": "https://localhost:8080/",
     "height": 85
    },
    "colab_type": "code",
    "id": "s2gZx4I9d9SP",
    "outputId": "c9a86a65-3d3d-4b83-dae9-05d6ad4dbaa3"
   },
   "outputs": [
    {
     "name": "stderr",
     "output_type": "stream",
     "text": [
      "/home/fred/anaconda3/envs/tensorflow/lib/python3.6/site-packages/h5py/__init__.py:36: FutureWarning: Conversion of the second argument of issubdtype from `float` to `np.floating` is deprecated. In future, it will be treated as `np.float64 == np.dtype(float).type`.\n",
      "  from ._conv import register_converters as _register_converters\n"
     ]
    },
    {
     "name": "stdout",
     "output_type": "stream",
     "text": [
      "------ HELPER   FUNCTIONS IMPORTED ------\n",
      "------ TRAINING FUNCTIONS IMPORTED ------\n",
      "------ TEST     FUNCTIONS IMPORTED ------\n",
      "Function is ready\n"
     ]
    }
   ],
   "source": [
    "from model_20190302 import *\n",
    "\n",
    "import sys\n",
    "import random\n",
    "\n",
    "random.seed(702)"
   ]
  },
  {
   "cell_type": "code",
   "execution_count": 3,
   "metadata": {
    "colab": {},
    "colab_type": "code",
    "collapsed": true,
    "id": "hGVLMhN_d9SW"
   },
   "outputs": [],
   "source": [
    "# import tensorflow as tf\n",
    "\n",
    "# with tf.device('/gpu:0'):\n",
    "#     a = tf.constant([1.0, 2.0, 3.0, 4.0, 5.0, 6.0], shape=[2, 3], name='a')\n",
    "#     b = tf.constant([1.0, 2.0, 3.0, 4.0, 5.0, 6.0], shape=[3, 2], name='b')\n",
    "#     c = tf.matmul(a, b)\n",
    "\n",
    "# with tf.Session() as sess:\n",
    "#     print (sess.run(c))\n",
    "    \n",
    "# print(\"GPU is being used!\")"
   ]
  },
  {
   "cell_type": "markdown",
   "metadata": {
    "colab_type": "text",
    "id": "fCLykIurd9SZ"
   },
   "source": [
    "# Bringing the Dataset"
   ]
  },
  {
   "cell_type": "code",
   "execution_count": 4,
   "metadata": {
    "colab": {
     "base_uri": "https://localhost:8080/",
     "height": 632
    },
    "colab_type": "code",
    "id": "BQo7Ft8kd9Sb",
    "outputId": "1eadc89f-4120-44fe-9662-9bff896ecf28"
   },
   "outputs": [
    {
     "name": "stdout",
     "output_type": "stream",
     "text": [
      "\n",
      "WARNING:tensorflow:From /home/fred/Dropbox/WonjunCode/mnist_gmu/helper/generate_data_mnist.py:15: read_data_sets (from tensorflow.contrib.learn.python.learn.datasets.mnist) is deprecated and will be removed in a future version.\n",
      "Instructions for updating:\n",
      "Please use alternatives such as official/mnist/dataset.py from tensorflow/models.\n",
      "WARNING:tensorflow:From /home/fred/anaconda3/envs/tensorflow/lib/python3.6/site-packages/tensorflow/contrib/learn/python/learn/datasets/mnist.py:260: maybe_download (from tensorflow.contrib.learn.python.learn.datasets.base) is deprecated and will be removed in a future version.\n",
      "Instructions for updating:\n",
      "Please write your own downloading logic.\n",
      "WARNING:tensorflow:From /home/fred/anaconda3/envs/tensorflow/lib/python3.6/site-packages/tensorflow/contrib/learn/python/learn/datasets/mnist.py:262: extract_images (from tensorflow.contrib.learn.python.learn.datasets.mnist) is deprecated and will be removed in a future version.\n",
      "Instructions for updating:\n",
      "Please use tf.data to implement this functionality.\n",
      "Extracting ../MNIST_data/train-images-idx3-ubyte.gz\n",
      "WARNING:tensorflow:From /home/fred/anaconda3/envs/tensorflow/lib/python3.6/site-packages/tensorflow/contrib/learn/python/learn/datasets/mnist.py:267: extract_labels (from tensorflow.contrib.learn.python.learn.datasets.mnist) is deprecated and will be removed in a future version.\n",
      "Instructions for updating:\n",
      "Please use tf.data to implement this functionality.\n",
      "Extracting ../MNIST_data/train-labels-idx1-ubyte.gz\n",
      "Extracting ../MNIST_data/t10k-images-idx3-ubyte.gz\n",
      "Extracting ../MNIST_data/t10k-labels-idx1-ubyte.gz\n",
      "WARNING:tensorflow:From /home/fred/anaconda3/envs/tensorflow/lib/python3.6/site-packages/tensorflow/contrib/learn/python/learn/datasets/mnist.py:290: DataSet.__init__ (from tensorflow.contrib.learn.python.learn.datasets.mnist) is deprecated and will be removed in a future version.\n",
      "Instructions for updating:\n",
      "Please use alternatives such as official/mnist/dataset.py from tensorflow/models.\n",
      "\n",
      "Taking 100 per digit for train data\n",
      "y train one hot encoding: (55000, 10)\n",
      "y test one hot encoding: (10000, 10)\n",
      "\n",
      "Training Set:   (55000, 32, 32, 1)\n",
      "Test Set:       (10000, 32, 32, 1)\n",
      "Done!\n"
     ]
    }
   ],
   "source": [
    "from helper.generate_data_mnist import *\n",
    "\n",
    "SIZE = 100\n",
    "reduced = True\n",
    "padding = True\n",
    "# Generate the data\n",
    "X_train, X_test, y_train, y_test, y_train_one_hot, y_test_one_hot = mnist_generate_data(reduced=reduced, train_size = SIZE, padding=padding)"
   ]
  },
  {
   "cell_type": "markdown",
   "metadata": {
    "colab_type": "text",
    "id": "cSfIIFLmd9Sg"
   },
   "source": [
    "# Preprocessing"
   ]
  },
  {
   "cell_type": "markdown",
   "metadata": {
    "colab_type": "text",
    "id": "2FGH2nUbd9Sh"
   },
   "source": [
    "Shuffle the training data"
   ]
  },
  {
   "cell_type": "code",
   "execution_count": 5,
   "metadata": {
    "colab": {
     "base_uri": "https://localhost:8080/",
     "height": 381
    },
    "colab_type": "code",
    "id": "NmHYeMxKd9Sj",
    "outputId": "79d8e704-4fe3-4e61-9672-6b6803d9356b"
   },
   "outputs": [
    {
     "data": {
      "image/png": "[encoded data removed]",
      "text/plain": [
       "<matplotlib.figure.Figure at 0x7fabc7691dd8>"
      ]
     },
     "metadata": {},
     "output_type": "display_data"
    },
    {
     "name": "stdout",
     "output_type": "stream",
     "text": [
      "X_train: (55000, 32, 32, 1)\n",
      "y_train: (55000, 1)\n"
     ]
    }
   ],
   "source": [
    "plt.hist(y_train, rwidth=0.85)\n",
    "plt.show()\n",
    "\n",
    "print(\"X_train:\",X_train.shape)\n",
    "print(\"y_train:\",y_train.shape)"
   ]
  },
  {
   "cell_type": "markdown",
   "metadata": {
    "colab_type": "text",
    "id": "hiht75pHd9Sq"
   },
   "source": [
    "# Training"
   ]
  },
  {
   "cell_type": "code",
   "execution_count": 6,
   "metadata": {
    "colab": {},
    "colab_type": "code",
    "collapsed": true,
    "id": "QQrXh65bd9Ss"
   },
   "outputs": [],
   "source": [
    "# learning rate\n",
    "rate = 0.001\n",
    "\n",
    "EPOCHS = 20\n",
    "BATCH_SIZE = 128\n",
    "\n",
    "# make sure to change this parameter!!!!!\n",
    "filename_index = 0\n",
    "date = 20190302"
   ]
  },
  {
   "cell_type": "code",
   "execution_count": null,
   "metadata": {
    "colab": {},
    "colab_type": "code",
    "collapsed": true,
    "id": "BY85ytxhd9Sw"
   },
   "outputs": [],
   "source": [
    "def evaluate(X_data, y_data):\n",
    "    \n",
    "    num_examples = len(X_data)\n",
    "    sess = tf.get_default_session()\n",
    "    \n",
    "    accuracy = sess.run([accuracy_operation,correct_prediction,logits,fc4,fc6], feed_dict={x: X_data, y: y_data})\n",
    "    \n",
    "    return accuracy"
   ]
  },
  {
   "cell_type": "code",
   "execution_count": null,
   "metadata": {
    "colab": {
     "base_uri": "https://localhost:8080/",
     "height": 8928
    },
    "colab_type": "code",
    "id": "7d4lfR5id9Sz",
    "outputId": "03d9b302-bcb3-4151-fdc5-45acea5b5cb0",
    "scrolled": false
   },
   "outputs": [
    {
     "name": "stdout",
     "output_type": "stream",
     "text": [
      "WARNING:tensorflow:From <ipython-input-8-9c8ec090c814>:35: softmax_cross_entropy_with_logits (from tensorflow.python.ops.nn_ops) is deprecated and will be removed in a future version.\n",
      "Instructions for updating:\n",
      "\n",
      "Future major versions of TensorFlow will allow gradients to flow\n",
      "into the labels input on backprop by default.\n",
      "\n",
      "See @{tf.nn.softmax_cross_entropy_with_logits_v2}.\n",
      "\n",
      "Training...\n"
     ]
    }
   ],
   "source": [
    "# Matrix sizes for svm training\n",
    "mat_type_list = [\"2\", \"4\", \"6\"]\n",
    "\n",
    "tf_only  = []\n",
    "tf_svm2  = []\n",
    "tf_svm4  = []\n",
    "tf_svm6  = []\n",
    "\n",
    "# for D in D_list: # eventual dimension of noisy data\n",
    "#     for N in N_list: # number of data points\n",
    "#         svm_only[\"{}-{}\".format(D,N)] = []\n",
    "#         tf_only[\"{}-{}\".format(D,N)] = []        \n",
    "#         tf_svm2[\"{}-{}\".format(D,N)] = []\n",
    "#         tf_svm4[\"{}-{}\".format(D,N)] = []\n",
    "#         tf_svm6[\"{}-{}\".format(D,N)] = []\n",
    "#         tf_svm16[\"{}-{}\".format(D,N)] = []\n",
    "#         tf_svm64[\"{}-{}\".format(D,N)] = []\n",
    "\n",
    "    \n",
    "# initialize x axis for plot\n",
    "epochs_ranges = []\n",
    "\n",
    "accuracy_tf  = []\n",
    "\n",
    "accuracy_svc_linear = {}\n",
    "\n",
    "for mat in mat_type_list:\n",
    "    accuracy_svc_linear[mat] = []\n",
    "\n",
    "x = tf.placeholder(tf.float32, (None, X_train.shape[1],X_train.shape[2],X_train.shape[3]), \"x\")\n",
    "y = tf.placeholder(tf.int32, (None, 10), \"y\")\n",
    "\n",
    "logits, fc4, fc6 = pipeline(x)\n",
    "\n",
    "cross_entropy = tf.nn.softmax_cross_entropy_with_logits(labels=y, logits=logits)\n",
    "loss_operation = tf.reduce_mean(cross_entropy)\n",
    "\n",
    "optimizer = tf.train.AdamOptimizer(learning_rate = rate)\n",
    "\n",
    "training_operation = optimizer.minimize(loss_operation)\n",
    "\n",
    "correct_prediction = tf.equal(tf.argmax(logits, 1), tf.argmax(y, 1))\n",
    "accuracy_operation = tf.reduce_mean(tf.cast(correct_prediction, tf.float32))\n",
    "saver = tf.train.Saver()\n",
    "\n",
    "accuracies = []\n",
    "\n",
    "with tf.Session(config=tf.ConfigProto(log_device_placement=False)) as sess:\n",
    "    sess.run(tf.global_variables_initializer())\n",
    "    num_examples = len(X_train)\n",
    "\n",
    "    print(\"Training...\")\n",
    "\n",
    "    for i in range(EPOCHS):\n",
    "        output = sess.run([training_operation, logits, fc4, fc6], feed_dict={x: X_train, y: y_train_one_hot})\n",
    "\n",
    "#         if i % 200 == 0 and i > 5000:\n",
    "        if True:\n",
    "\n",
    "            print(\"\\nEPOCHS:\", i)\n",
    "            Amat2,Amat4,Amat6 = output[1:]\n",
    "\n",
    "            epochs_ranges.append(i)\n",
    "\n",
    "            print(\"\\nTesting...\")\n",
    "            test_accuracy,prediction_tf,Amat2_test,Amat4_test,Amat6_test = evaluate(X_test, y_test_one_hot)\n",
    "\n",
    "            print(\"\\nTest Accuracy = {:.3f}\".format(test_accuracy))\n",
    "            \n",
    "            tf_only.append(test_accuracy)\n",
    "\n",
    "            accuracy_tf.append(test_accuracy)\n",
    "\n",
    "            '''\n",
    "\n",
    "            in this model, there is no test data.\n",
    "            it is only using train data and evaluate on the train data.\n",
    "            so no need to worry about dividing into two sets\n",
    "\n",
    "            in the next for loop, I used the term train and test but\n",
    "            i just copied them from CIFAR10-tf-smaller.ipynb and didn't change the words.\n",
    "\n",
    "            '''\n",
    "\n",
    "            for train_mat_type in mat_type_list: # only 6 and 16\n",
    "\n",
    "                if train_mat_type == \"2\":\n",
    "                    train_matrix = Amat2.copy()\n",
    "                    test_matrix  = Amat2_test.copy()\n",
    "                elif train_mat_type == \"4\":\n",
    "                    train_matrix = Amat4.copy()\n",
    "                    test_matrix  = Amat4_test.copy()\n",
    "                elif train_mat_type == \"6\":\n",
    "                    train_matrix = Amat6.copy()\n",
    "                    test_matrix  = Amat6_test.copy()                   \n",
    "\n",
    "                # With linear kernel\n",
    "                svc = SVC(kernel='linear')\n",
    "                svc.fit(train_matrix, y_train)\n",
    "                \n",
    "                print(\"Y_train:\",y_train.shape)\n",
    "                print(\"Y_train:\",y_test.shape)\n",
    "\n",
    "                prediction = svc.predict(test_matrix)\n",
    "                \n",
    "                print(\"prediction:\",prediction.shape)\n",
    "                \n",
    "                svc_linear_accuracy = np.sum(prediction==y_test.ravel())/len(prediction)\n",
    "\n",
    "                print('\\n train_mat_type: {}, Accuracy by SVC (linear): {}'.format(train_mat_type, svc_linear_accuracy))\n",
    "\n",
    "                accuracy_svc_linear[train_mat_type].append(svc_linear_accuracy)\n",
    "\n",
    "                # append accuracy to svm_only#\n",
    "                if train_mat_type == \"2\":\n",
    "                    tf_svm2.append(svc_linear_accuracy)\n",
    "                elif train_mat_type == \"4\":\n",
    "                    tf_svm4.append(svc_linear_accuracy)\n",
    "                elif train_mat_type == \"6\":\n",
    "                    tf_svm6.append(svc_linear_accuracy)\n",
    "\n",
    "    for train_mat_type in mat_type_list:\n",
    "        plt.figure(figsize=(10,5))\n",
    "        plt.plot(epochs_ranges, accuracy_tf, 'o', label=\"TF\")\n",
    "        plt.plot(epochs_ranges, accuracy_svc_linear[train_mat_type], 'o',label=\"SVC (linear)\")\n",
    "\n",
    "        a = np.argmax(accuracy_tf)\n",
    "        plt.annotate(accuracy_tf[a], (epochs_ranges[a], accuracy_tf[a]))\n",
    "\n",
    "        a = np.argmax(accuracy_svc_linear[train_mat_type])\n",
    "        plt.annotate(accuracy_svc_linear[train_mat_type][a], (epochs_ranges[a], accuracy_svc_linear[train_mat_type][a]))\n",
    "\n",
    "        plt.legend()\n",
    "        title  = \"MNIST TF vs. SVC (linear) matrix size {}.png\".format(train_mat_type)\n",
    "        title1 = title\n",
    "        \n",
    "\n",
    "        plt.title(title1)\n",
    "        plt.grid()\n",
    "        plt.savefig(title)\n",
    "\n",
    "        plt.show()\n",
    "                \n",
    "# np.savez(\"{}-multiple-runs-{}.npz\".format(date,filename_index), \\\n",
    "#                         svm_only = svm_only, \\\n",
    "#                         tf_only  = tf_only, \\\n",
    "#                         tf_svm2  = tf_svm2, \\\n",
    "#                         tf_svm4  = tf_svm4, \\\n",
    "#                         tf_svm6  = tf_svm6)\n",
    "\n",
    "import pickle\n",
    "pickle.dump({\"tf_only\":tf_only, \"tf_svm2\":tf_svm2, \"tf_svm4\":tf_svm4, \"tf_svm6\":tf_svm6}, open(\"{}-{}.p\"))"
   ]
  },
  {
   "cell_type": "code",
   "execution_count": null,
   "metadata": {
    "colab": {},
    "colab_type": "code",
    "id": "3Bcy6ZsPd9S3",
    "outputId": "719301cd-3ca0-46bf-af66-f4c9b8c69aad"
   },
   "outputs": [],
   "source": [
    "npz_data = np.load(\"{}-multiple-runs-{}.npz\".format(date,filename_index))"
   ]
  },
  {
   "cell_type": "code",
   "execution_count": null,
   "metadata": {
    "colab": {},
    "colab_type": "code",
    "collapsed": true,
    "id": "mp6D4sNPd9S_"
   },
   "outputs": [],
   "source": [
    "keys = npz_data.keys()"
   ]
  },
  {
   "cell_type": "code",
   "execution_count": null,
   "metadata": {
    "colab": {},
    "colab_type": "code",
    "collapsed": true,
    "id": "lsHKZfxmd9TB"
   },
   "outputs": [],
   "source": [
    "for i in keys:\n",
    "    print(i)\n",
    "    print(npz_data[i])\n",
    "    print()"
   ]
  },
  {
   "cell_type": "code",
   "execution_count": null,
   "metadata": {
    "colab": {},
    "colab_type": "code",
    "collapsed": true,
    "id": "A2zkPzMXd9TE"
   },
   "outputs": [],
   "source": []
  }
 ],
 "metadata": {
  "colab": {
   "name": "20190302-MNIST.ipynb",
   "provenance": [],
   "version": "0.3.2"
  },
  "kernelspec": {
   "display_name": "Python [default]",
   "language": "python",
   "name": "python3"
  },
  "language_info": {
   "codemirror_mode": {
    "name": "ipython",
    "version": 3
   },
   "file_extension": ".py",
   "mimetype": "text/x-python",
   "name": "python",
   "nbconvert_exporter": "python",
   "pygments_lexer": "ipython3",
   "version": "3.6.3"
  }
 },
 "nbformat": 4,
 "nbformat_minor": 1
}
