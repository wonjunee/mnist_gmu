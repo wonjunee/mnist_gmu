{
  "nbformat": 4,
  "nbformat_minor": 0,
  "metadata": {
    "colab": {
      "name": "20190302-MNIST.ipynb",
      "version": "0.3.2",
      "provenance": [],
      "toc_visible": true
    },
    "kernelspec": {
      "display_name": "Python [default]",
      "language": "python",
      "name": "python3"
    }
  },
  "cells": [
    {
      "metadata": {
        "id": "cJWZibHLd9SJ",
        "colab_type": "text"
      },
      "cell_type": "markdown",
      "source": [
        "# Note 3/2/2019\n",
        "\n",
        "Accuracies based on various parameters"
      ]
    },
    {
      "metadata": {
        "id": "LMVuL8J1d9SO",
        "colab_type": "text"
      },
      "cell_type": "markdown",
      "source": [
        "In this experiment, we are going to test the synthetic \"MNIST\" dataset, which is (very much) not linearly seperable. "
      ]
    },
    {
      "metadata": {
        "id": "omOoG9CCenpk",
        "colab_type": "code",
        "colab": {}
      },
      "cell_type": "code",
      "source": [
        "# !git clone https://github.com/wonjunee/mnist_gmu.git\n",
        "\n",
        "\n",
        "  \n",
        "# import os\n",
        "# import shutil\n",
        "# for i in (os.listdir('./mnist_gmu')):\n",
        "#   shutil.move(\"./mnist_gmu/{}\".format(i), \".\")\n",
        "  \n",
        "# for i in (os.listdir('.')):\n",
        "#   print(i)"
      ],
      "execution_count": 0,
      "outputs": []
    },
    {
      "metadata": {
        "id": "s2gZx4I9d9SP",
        "colab_type": "code",
        "colab": {
          "base_uri": "https://localhost:8080/",
          "height": 85
        },
        "outputId": "363d1ce7-0a4a-4d6e-fff6-46bf845fb9da"
      },
      "cell_type": "code",
      "source": [
        "from model_20190302 import *\n",
        "\n",
        "import sys\n",
        "import random\n",
        "\n",
        "random.seed(702)"
      ],
      "execution_count": 2,
      "outputs": [
        {
          "output_type": "stream",
          "text": [
            "------ HELPER   FUNCTIONS IMPORTED ------\n",
            "------ TRAINING FUNCTIONS IMPORTED ------\n",
            "------ TEST     FUNCTIONS IMPORTED ------\n",
            "Function is ready\n"
          ],
          "name": "stdout"
        }
      ]
    },
    {
      "metadata": {
        "id": "hGVLMhN_d9SW",
        "colab_type": "code",
        "colab": {}
      },
      "cell_type": "code",
      "source": [
        "# import tensorflow as tf\n",
        "\n",
        "# with tf.device('/gpu:0'):\n",
        "#     a = tf.constant([1.0, 2.0, 3.0, 4.0, 5.0, 6.0], shape=[2, 3], name='a')\n",
        "#     b = tf.constant([1.0, 2.0, 3.0, 4.0, 5.0, 6.0], shape=[3, 2], name='b')\n",
        "#     c = tf.matmul(a, b)\n",
        "\n",
        "# with tf.Session() as sess:\n",
        "#     print(sess.run(c))\n",
        "    \n",
        "# print(\"GPU is being used!\")"
      ],
      "execution_count": 0,
      "outputs": []
    },
    {
      "metadata": {
        "id": "fCLykIurd9SZ",
        "colab_type": "text"
      },
      "cell_type": "markdown",
      "source": [
        "# Bringing the Dataset"
      ]
    },
    {
      "metadata": {
        "id": "BQo7Ft8kd9Sb",
        "colab_type": "code",
        "colab": {
          "base_uri": "https://localhost:8080/",
          "height": 513
        },
        "outputId": "f594883a-ec1a-4c71-ab2b-36f2854af74a"
      },
      "cell_type": "code",
      "source": [
        "from helper.generate_data_mnist import *\n",
        "\n",
        "SIZE = 100\n",
        "reduced = True\n",
        "padding = True\n",
        "# Generate the data\n",
        "X_train, X_test, y_train, y_test, y_train_one_hot, y_test_one_hot = mnist_generate_data(reduced=reduced, train_size = SIZE, padding=padding)"
      ],
      "execution_count": 4,
      "outputs": [
        {
          "output_type": "stream",
          "text": [
            "\n",
            "WARNING:tensorflow:From /content/helper/generate_data_mnist.py:15: read_data_sets (from tensorflow.contrib.learn.python.learn.datasets.mnist) is deprecated and will be removed in a future version.\n",
            "Instructions for updating:\n",
            "Please use alternatives such as official/mnist/dataset.py from tensorflow/models.\n",
            "WARNING:tensorflow:From /usr/local/lib/python3.6/dist-packages/tensorflow/contrib/learn/python/learn/datasets/mnist.py:260: maybe_download (from tensorflow.contrib.learn.python.learn.datasets.base) is deprecated and will be removed in a future version.\n",
            "Instructions for updating:\n",
            "Please write your own downloading logic.\n",
            "WARNING:tensorflow:From /usr/local/lib/python3.6/dist-packages/tensorflow/contrib/learn/python/learn/datasets/mnist.py:262: extract_images (from tensorflow.contrib.learn.python.learn.datasets.mnist) is deprecated and will be removed in a future version.\n",
            "Instructions for updating:\n",
            "Please use tf.data to implement this functionality.\n",
            "Extracting ../MNIST_data/train-images-idx3-ubyte.gz\n",
            "WARNING:tensorflow:From /usr/local/lib/python3.6/dist-packages/tensorflow/contrib/learn/python/learn/datasets/mnist.py:267: extract_labels (from tensorflow.contrib.learn.python.learn.datasets.mnist) is deprecated and will be removed in a future version.\n",
            "Instructions for updating:\n",
            "Please use tf.data to implement this functionality.\n",
            "Extracting ../MNIST_data/train-labels-idx1-ubyte.gz\n",
            "Extracting ../MNIST_data/t10k-images-idx3-ubyte.gz\n",
            "Extracting ../MNIST_data/t10k-labels-idx1-ubyte.gz\n",
            "WARNING:tensorflow:From /usr/local/lib/python3.6/dist-packages/tensorflow/contrib/learn/python/learn/datasets/mnist.py:290: DataSet.__init__ (from tensorflow.contrib.learn.python.learn.datasets.mnist) is deprecated and will be removed in a future version.\n",
            "Instructions for updating:\n",
            "Please use alternatives such as official/mnist/dataset.py from tensorflow/models.\n",
            "\n",
            "Taking 100 per digit for train data\n",
            "y train one hot encoding: (55000, 10)\n",
            "y test one hot encoding: (10000, 10)\n",
            "\n",
            "Training Set:   (55000, 32, 32, 1)\n",
            "Test Set:       (10000, 32, 32, 1)\n",
            "Done!\n"
          ],
          "name": "stdout"
        }
      ]
    },
    {
      "metadata": {
        "id": "cSfIIFLmd9Sg",
        "colab_type": "text"
      },
      "cell_type": "markdown",
      "source": [
        "# Preprocessing"
      ]
    },
    {
      "metadata": {
        "id": "2FGH2nUbd9Sh",
        "colab_type": "text"
      },
      "cell_type": "markdown",
      "source": [
        "Shuffle the training data"
      ]
    },
    {
      "metadata": {
        "id": "NmHYeMxKd9Sj",
        "colab_type": "code",
        "colab": {
          "base_uri": "https://localhost:8080/",
          "height": 381
        },
        "outputId": "aaac9c6b-fed8-4628-c963-b5129845a4e7"
      },
      "cell_type": "code",
      "source": [
        "plt.hist(y_train, rwidth=0.85)\n",
        "plt.show()\n",
        "\n",
        "print(\"X_train:\",X_train.shape)\n",
        "print(\"y_train:\",y_train.shape)"
      ],
      "execution_count": 5,
      "outputs": [
        {
          "output_type": "display_data",
          "data": {
            "image/png": "[encoded data removed]",
            "text/plain": [
              "<Figure size 576x396 with 1 Axes>"
            ]
          },
          "metadata": {
            "tags": []
          }
        },
        {
          "output_type": "stream",
          "text": [
            "X_train: (55000, 32, 32, 1)\n",
            "y_train: (55000, 1)\n"
          ],
          "name": "stdout"
        }
      ]
    },
    {
      "metadata": {
        "id": "hiht75pHd9Sq",
        "colab_type": "text"
      },
      "cell_type": "markdown",
      "source": [
        "# Training"
      ]
    },
    {
      "metadata": {
        "id": "QQrXh65bd9Ss",
        "colab_type": "code",
        "colab": {}
      },
      "cell_type": "code",
      "source": [
        "# learning rate\n",
        "rate = 0.001\n",
        "\n",
        "EPOCHS = 20\n",
        "BATCH_SIZE = 128\n",
        "\n",
        "# make sure to change this parameter!!!!!\n",
        "filename_index = 0\n",
        "date = 20190302"
      ],
      "execution_count": 0,
      "outputs": []
    },
    {
      "metadata": {
        "id": "BY85ytxhd9Sw",
        "colab_type": "code",
        "colab": {}
      },
      "cell_type": "code",
      "source": [
        "def evaluate(X_data, y_data):\n",
        "    \n",
        "    num_examples = len(X_data)\n",
        "    sess = tf.get_default_session()\n",
        "    \n",
        "    accuracy = sess.run([accuracy_operation,correct_prediction,logits,fc4,fc6], feed_dict={x: X_data, y: y_data})\n",
        "    \n",
        "    return accuracy"
      ],
      "execution_count": 0,
      "outputs": []
    },
    {
      "metadata": {
        "scrolled": false,
        "id": "7d4lfR5id9Sz",
        "colab_type": "code",
        "colab": {
          "base_uri": "https://localhost:8080/",
          "height": 6871
        },
        "outputId": "7299dd91-c1fc-4584-a1d2-fc7bad74236e"
      },
      "cell_type": "code",
      "source": [
        "# Matrix sizes for svm training\n",
        "mat_type_list = [\"2\", \"4\", \"6\"]\n",
        "\n",
        "tf_only  = []\n",
        "tf_svm2  = []\n",
        "tf_svm4  = []\n",
        "tf_svm6  = []\n",
        "    \n",
        "# initialize x axis for plot\n",
        "epochs_ranges = []\n",
        "\n",
        "accuracy_tf  = []\n",
        "\n",
        "accuracy_svc_linear = {}\n",
        "\n",
        "for mat in mat_type_list:\n",
        "    accuracy_svc_linear[mat] = []\n",
        "\n",
        "x = tf.placeholder(tf.float32, (None, X_train.shape[1],X_train.shape[2],X_train.shape[3]), \"x\")\n",
        "y = tf.placeholder(tf.int32, (None, 10), \"y\")\n",
        "\n",
        "logits, fc4, fc6 = pipeline(x)\n",
        "\n",
        "cross_entropy = tf.nn.softmax_cross_entropy_with_logits(labels=y, logits=logits)\n",
        "loss_operation = tf.reduce_mean(cross_entropy)\n",
        "\n",
        "optimizer = tf.train.AdamOptimizer(learning_rate = rate)\n",
        "\n",
        "training_operation = optimizer.minimize(loss_operation)\n",
        "\n",
        "correct_prediction = tf.equal(tf.argmax(logits, 1), tf.argmax(y, 1))\n",
        "accuracy_operation = tf.reduce_mean(tf.cast(correct_prediction, tf.float32))\n",
        "saver = tf.train.Saver()\n",
        "\n",
        "accuracies = []\n",
        "\n",
        "with tf.Session(config=tf.ConfigProto(log_device_placement=False)) as sess:\n",
        "    sess.run(tf.global_variables_initializer())\n",
        "    num_examples = len(X_train)\n",
        "\n",
        "    print(\"Training...\")\n",
        "\n",
        "    for i in range(EPOCHS):\n",
        "        \n",
        "        for offset in range(0, len(y_train), BATCH_SIZE):\n",
        "            end = offset + BATCH_SIZE\n",
        "            batch_x, batch_y = X_train[offset:end], y_train_one_hot[offset:end]\n",
        "            output_batch = sess.run([training_operation, logits, fc4, fc6], feed_dict={x: batch_x, y: batch_y})\n",
        "            \n",
        "            if offset == 0:\n",
        "                Amat2,Amat4,Amat6 = output_batch[1:]\n",
        "            else:\n",
        "                Amat2 = np.append(Amat2, output_batch[1], axis=0)\n",
        "                Amat4 = np.append(Amat4, output_batch[2], axis=0)\n",
        "                Amat6 = np.append(Amat6, output_batch[3], axis=0)\n",
        "                \n",
        "\n",
        "#         if i % 200 == 0 and i > 5000:\n",
        "        if True:\n",
        "        \n",
        "            print(\"\\nEPOCHS:\", i+1)\n",
        "        \n",
        "            print(Amat2.shape, Amat4.shape, Amat6.shape)\n",
        "\n",
        "            epochs_ranges.append(i+1)\n",
        "\n",
        "            print(\"\\nTesting...\")\n",
        "            test_accuracy,prediction_tf,Amat2_test,Amat4_test,Amat6_test = evaluate(X_test, y_test_one_hot)\n",
        "\n",
        "            print(\"\\nTest Accuracy = {:.3f}\".format(test_accuracy))\n",
        "            \n",
        "            tf_only.append(test_accuracy)\n",
        "\n",
        "            accuracy_tf.append(test_accuracy)\n",
        "\n",
        "            for train_mat_type in mat_type_list: # only 6 and 16\n",
        "\n",
        "                if train_mat_type == \"2\":\n",
        "                    train_matrix = Amat2.copy()\n",
        "                    test_matrix  = Amat2_test.copy()\n",
        "                elif train_mat_type == \"4\":\n",
        "                    train_matrix = Amat4.copy()\n",
        "                    test_matrix  = Amat4_test.copy()\n",
        "                elif train_mat_type == \"6\":\n",
        "                    train_matrix = Amat6.copy()\n",
        "                    test_matrix  = Amat6_test.copy()                   \n",
        "\n",
        "                # With linear kernel\n",
        "                svc = SVC(kernel='linear')\n",
        "                svc.fit(train_matrix, y_train)\n",
        "                \n",
        "                print(\"Y_train:\",y_train.shape)\n",
        "                print(\"Y_train:\",y_test.shape)\n",
        "\n",
        "                prediction = svc.predict(test_matrix)\n",
        "                \n",
        "                print(\"prediction:\",prediction.shape)\n",
        "                \n",
        "                svc_linear_accuracy = np.sum(prediction==y_test.ravel())/len(prediction)\n",
        "\n",
        "                print('\\n train_mat_type: {}, Accuracy by SVC (linear): {}'.format(train_mat_type, svc_linear_accuracy))\n",
        "\n",
        "                accuracy_svc_linear[train_mat_type].append(svc_linear_accuracy)\n",
        "\n",
        "                # append accuracy to svm_only#\n",
        "                if train_mat_type == \"2\":\n",
        "                    tf_svm2.append(svc_linear_accuracy)\n",
        "                elif train_mat_type == \"4\":\n",
        "                    tf_svm4.append(svc_linear_accuracy)\n",
        "                elif train_mat_type == \"6\":\n",
        "                    tf_svm6.append(svc_linear_accuracy)\n",
        "\n",
        "    for train_mat_type in mat_type_list:\n",
        "        plt.figure(figsize=(10,5))\n",
        "        plt.plot(epochs_ranges, accuracy_tf, 'o', label=\"TF\")\n",
        "        plt.plot(epochs_ranges, accuracy_svc_linear[train_mat_type], 'o',label=\"SVC (linear)\")\n",
        "\n",
        "        a = np.argmax(accuracy_tf)\n",
        "        plt.annotate(accuracy_tf[a], (epochs_ranges[a], accuracy_tf[a]))\n",
        "\n",
        "        a = np.argmax(accuracy_svc_linear[train_mat_type])\n",
        "        plt.annotate(accuracy_svc_linear[train_mat_type][a], (epochs_ranges[a], accuracy_svc_linear[train_mat_type][a]))\n",
        "\n",
        "        plt.legend()\n",
        "        title  = \"MNIST TF vs. SVC (linear) matrix size {}.png\".format(train_mat_type)\n",
        "        title1 = title\n",
        "        \n",
        "\n",
        "        plt.title(title1)\n",
        "        plt.grid()\n",
        "        plt.savefig(title)\n",
        "\n",
        "        plt.show()\n",
        "                \n",
        "# np.savez(\"{}-multiple-runs-{}.npz\".format(date,filename_index), \\\n",
        "#                         svm_only = svm_only, \\\n",
        "#                         tf_only  = tf_only, \\\n",
        "#                         tf_svm2  = tf_svm2, \\\n",
        "#                         tf_svm4  = tf_svm4, \\\n",
        "#                         tf_svm6  = tf_svm6)\n",
        "\n",
        "import pickle\n",
        "pickle.dump({\"tf_only\":tf_only, \"tf_svm2\":tf_svm2, \"tf_svm4\":tf_svm4, \"tf_svm6\":tf_svm6}, open(\"{}-{}.p\"))"
      ],
      "execution_count": 0,
      "outputs": [
        {
          "output_type": "stream",
          "text": [
            "WARNING:tensorflow:From /usr/local/lib/python3.6/dist-packages/tensorflow/python/framework/op_def_library.py:263: colocate_with (from tensorflow.python.framework.ops) is deprecated and will be removed in a future version.\n",
            "Instructions for updating:\n",
            "Colocations handled automatically by placer.\n",
            "WARNING:tensorflow:From /usr/local/lib/python3.6/dist-packages/tensorflow/contrib/layers/python/layers/layers.py:1624: flatten (from tensorflow.python.layers.core) is deprecated and will be removed in a future version.\n",
            "Instructions for updating:\n",
            "Use keras.layers.flatten instead.\n",
            "WARNING:tensorflow:From <ipython-input-8-8b31f92f2d4d>:23: softmax_cross_entropy_with_logits (from tensorflow.python.ops.nn_ops) is deprecated and will be removed in a future version.\n",
            "Instructions for updating:\n",
            "\n",
            "Future major versions of TensorFlow will allow gradients to flow\n",
            "into the labels input on backprop by default.\n",
            "\n",
            "See `tf.nn.softmax_cross_entropy_with_logits_v2`.\n",
            "\n",
            "Training...\n",
            "\n",
            "EPOCHS: 1\n",
            "(55000, 10) (55000, 84) (55000, 1024)\n",
            "\n",
            "Testing...\n",
            "\n",
            "Test Accuracy = 0.959\n"
          ],
          "name": "stdout"
        },
        {
          "output_type": "stream",
          "text": [
            "/usr/local/lib/python3.6/dist-packages/sklearn/utils/validation.py:761: DataConversionWarning: A column-vector y was passed when a 1d array was expected. Please change the shape of y to (n_samples, ), for example using ravel().\n",
            "  y = column_or_1d(y, warn=True)\n"
          ],
          "name": "stderr"
        },
        {
          "output_type": "stream",
          "text": [
            "Y_train: (55000, 1)\n",
            "Y_train: (10000, 1)\n",
            "prediction: (10000,)\n",
            "\n",
            " train_mat_type: 2, Accuracy by SVC (linear): 0.9591\n"
          ],
          "name": "stdout"
        },
        {
          "output_type": "stream",
          "text": [
            "/usr/local/lib/python3.6/dist-packages/sklearn/utils/validation.py:761: DataConversionWarning: A column-vector y was passed when a 1d array was expected. Please change the shape of y to (n_samples, ), for example using ravel().\n",
            "  y = column_or_1d(y, warn=True)\n"
          ],
          "name": "stderr"
        },
        {
          "output_type": "stream",
          "text": [
            "Y_train: (55000, 1)\n",
            "Y_train: (10000, 1)\n",
            "prediction: (10000,)\n",
            "\n",
            " train_mat_type: 4, Accuracy by SVC (linear): 0.9581\n"
          ],
          "name": "stdout"
        },
        {
          "output_type": "stream",
          "text": [
            "/usr/local/lib/python3.6/dist-packages/sklearn/utils/validation.py:761: DataConversionWarning: A column-vector y was passed when a 1d array was expected. Please change the shape of y to (n_samples, ), for example using ravel().\n",
            "  y = column_or_1d(y, warn=True)\n"
          ],
          "name": "stderr"
        },
        {
          "output_type": "stream",
          "text": [
            "Y_train: (55000, 1)\n",
            "Y_train: (10000, 1)\n",
            "prediction: (10000,)\n",
            "\n",
            " train_mat_type: 6, Accuracy by SVC (linear): 0.97\n",
            "\n",
            "EPOCHS: 2\n",
            "(55000, 10) (55000, 84) (55000, 1024)\n",
            "\n",
            "Testing...\n",
            "\n",
            "Test Accuracy = 0.974\n"
          ],
          "name": "stdout"
        },
        {
          "output_type": "stream",
          "text": [
            "/usr/local/lib/python3.6/dist-packages/sklearn/utils/validation.py:761: DataConversionWarning: A column-vector y was passed when a 1d array was expected. Please change the shape of y to (n_samples, ), for example using ravel().\n",
            "  y = column_or_1d(y, warn=True)\n"
          ],
          "name": "stderr"
        },
        {
          "output_type": "stream",
          "text": [
            "Y_train: (55000, 1)\n",
            "Y_train: (10000, 1)\n",
            "prediction: (10000,)\n",
            "\n",
            " train_mat_type: 2, Accuracy by SVC (linear): 0.9743\n"
          ],
          "name": "stdout"
        },
        {
          "output_type": "stream",
          "text": [
            "/usr/local/lib/python3.6/dist-packages/sklearn/utils/validation.py:761: DataConversionWarning: A column-vector y was passed when a 1d array was expected. Please change the shape of y to (n_samples, ), for example using ravel().\n",
            "  y = column_or_1d(y, warn=True)\n"
          ],
          "name": "stderr"
        },
        {
          "output_type": "stream",
          "text": [
            "Y_train: (55000, 1)\n",
            "Y_train: (10000, 1)\n",
            "prediction: (10000,)\n",
            "\n",
            " train_mat_type: 4, Accuracy by SVC (linear): 0.9767\n"
          ],
          "name": "stdout"
        },
        {
          "output_type": "stream",
          "text": [
            "/usr/local/lib/python3.6/dist-packages/sklearn/utils/validation.py:761: DataConversionWarning: A column-vector y was passed when a 1d array was expected. Please change the shape of y to (n_samples, ), for example using ravel().\n",
            "  y = column_or_1d(y, warn=True)\n"
          ],
          "name": "stderr"
        },
        {
          "output_type": "stream",
          "text": [
            "Y_train: (55000, 1)\n",
            "Y_train: (10000, 1)\n",
            "prediction: (10000,)\n",
            "\n",
            " train_mat_type: 6, Accuracy by SVC (linear): 0.9823\n",
            "\n",
            "EPOCHS: 3\n",
            "(55000, 10) (55000, 84) (55000, 1024)\n",
            "\n",
            "Testing...\n",
            "\n",
            "Test Accuracy = 0.978\n"
          ],
          "name": "stdout"
        },
        {
          "output_type": "stream",
          "text": [
            "/usr/local/lib/python3.6/dist-packages/sklearn/utils/validation.py:761: DataConversionWarning: A column-vector y was passed when a 1d array was expected. Please change the shape of y to (n_samples, ), for example using ravel().\n",
            "  y = column_or_1d(y, warn=True)\n"
          ],
          "name": "stderr"
        },
        {
          "output_type": "stream",
          "text": [
            "Y_train: (55000, 1)\n",
            "Y_train: (10000, 1)\n",
            "prediction: (10000,)\n",
            "\n",
            " train_mat_type: 2, Accuracy by SVC (linear): 0.9788\n"
          ],
          "name": "stdout"
        },
        {
          "output_type": "stream",
          "text": [
            "/usr/local/lib/python3.6/dist-packages/sklearn/utils/validation.py:761: DataConversionWarning: A column-vector y was passed when a 1d array was expected. Please change the shape of y to (n_samples, ), for example using ravel().\n",
            "  y = column_or_1d(y, warn=True)\n"
          ],
          "name": "stderr"
        },
        {
          "output_type": "stream",
          "text": [
            "Y_train: (55000, 1)\n",
            "Y_train: (10000, 1)\n",
            "prediction: (10000,)\n",
            "\n",
            " train_mat_type: 4, Accuracy by SVC (linear): 0.9769\n"
          ],
          "name": "stdout"
        },
        {
          "output_type": "stream",
          "text": [
            "/usr/local/lib/python3.6/dist-packages/sklearn/utils/validation.py:761: DataConversionWarning: A column-vector y was passed when a 1d array was expected. Please change the shape of y to (n_samples, ), for example using ravel().\n",
            "  y = column_or_1d(y, warn=True)\n"
          ],
          "name": "stderr"
        },
        {
          "output_type": "stream",
          "text": [
            "Y_train: (55000, 1)\n",
            "Y_train: (10000, 1)\n",
            "prediction: (10000,)\n",
            "\n",
            " train_mat_type: 6, Accuracy by SVC (linear): 0.9832\n",
            "\n",
            "EPOCHS: 4\n",
            "(55000, 10) (55000, 84) (55000, 1024)\n",
            "\n",
            "Testing...\n",
            "\n",
            "Test Accuracy = 0.981\n"
          ],
          "name": "stdout"
        },
        {
          "output_type": "stream",
          "text": [
            "/usr/local/lib/python3.6/dist-packages/sklearn/utils/validation.py:761: DataConversionWarning: A column-vector y was passed when a 1d array was expected. Please change the shape of y to (n_samples, ), for example using ravel().\n",
            "  y = column_or_1d(y, warn=True)\n"
          ],
          "name": "stderr"
        },
        {
          "output_type": "stream",
          "text": [
            "Y_train: (55000, 1)\n",
            "Y_train: (10000, 1)\n",
            "prediction: (10000,)\n",
            "\n",
            " train_mat_type: 2, Accuracy by SVC (linear): 0.9814\n"
          ],
          "name": "stdout"
        },
        {
          "output_type": "stream",
          "text": [
            "/usr/local/lib/python3.6/dist-packages/sklearn/utils/validation.py:761: DataConversionWarning: A column-vector y was passed when a 1d array was expected. Please change the shape of y to (n_samples, ), for example using ravel().\n",
            "  y = column_or_1d(y, warn=True)\n"
          ],
          "name": "stderr"
        },
        {
          "output_type": "stream",
          "text": [
            "Y_train: (55000, 1)\n",
            "Y_train: (10000, 1)\n",
            "prediction: (10000,)\n",
            "\n",
            " train_mat_type: 4, Accuracy by SVC (linear): 0.9757\n"
          ],
          "name": "stdout"
        },
        {
          "output_type": "stream",
          "text": [
            "/usr/local/lib/python3.6/dist-packages/sklearn/utils/validation.py:761: DataConversionWarning: A column-vector y was passed when a 1d array was expected. Please change the shape of y to (n_samples, ), for example using ravel().\n",
            "  y = column_or_1d(y, warn=True)\n"
          ],
          "name": "stderr"
        },
        {
          "output_type": "stream",
          "text": [
            "Y_train: (55000, 1)\n",
            "Y_train: (10000, 1)\n",
            "prediction: (10000,)\n",
            "\n",
            " train_mat_type: 6, Accuracy by SVC (linear): 0.9838\n",
            "\n",
            "EPOCHS: 5\n",
            "(55000, 10) (55000, 84) (55000, 1024)\n",
            "\n",
            "Testing...\n",
            "\n",
            "Test Accuracy = 0.982\n"
          ],
          "name": "stdout"
        },
        {
          "output_type": "stream",
          "text": [
            "/usr/local/lib/python3.6/dist-packages/sklearn/utils/validation.py:761: DataConversionWarning: A column-vector y was passed when a 1d array was expected. Please change the shape of y to (n_samples, ), for example using ravel().\n",
            "  y = column_or_1d(y, warn=True)\n"
          ],
          "name": "stderr"
        },
        {
          "output_type": "stream",
          "text": [
            "Y_train: (55000, 1)\n",
            "Y_train: (10000, 1)\n",
            "prediction: (10000,)\n",
            "\n",
            " train_mat_type: 2, Accuracy by SVC (linear): 0.9829\n"
          ],
          "name": "stdout"
        },
        {
          "output_type": "stream",
          "text": [
            "/usr/local/lib/python3.6/dist-packages/sklearn/utils/validation.py:761: DataConversionWarning: A column-vector y was passed when a 1d array was expected. Please change the shape of y to (n_samples, ), for example using ravel().\n",
            "  y = column_or_1d(y, warn=True)\n"
          ],
          "name": "stderr"
        },
        {
          "output_type": "stream",
          "text": [
            "Y_train: (55000, 1)\n",
            "Y_train: (10000, 1)\n",
            "prediction: (10000,)\n",
            "\n",
            " train_mat_type: 4, Accuracy by SVC (linear): 0.9766\n"
          ],
          "name": "stdout"
        },
        {
          "output_type": "stream",
          "text": [
            "/usr/local/lib/python3.6/dist-packages/sklearn/utils/validation.py:761: DataConversionWarning: A column-vector y was passed when a 1d array was expected. Please change the shape of y to (n_samples, ), for example using ravel().\n",
            "  y = column_or_1d(y, warn=True)\n"
          ],
          "name": "stderr"
        },
        {
          "output_type": "stream",
          "text": [
            "Y_train: (55000, 1)\n",
            "Y_train: (10000, 1)\n",
            "prediction: (10000,)\n",
            "\n",
            " train_mat_type: 6, Accuracy by SVC (linear): 0.9845\n",
            "\n",
            "EPOCHS: 6\n",
            "(55000, 10) (55000, 84) (55000, 1024)\n",
            "\n",
            "Testing...\n",
            "\n",
            "Test Accuracy = 0.984\n"
          ],
          "name": "stdout"
        },
        {
          "output_type": "stream",
          "text": [
            "/usr/local/lib/python3.6/dist-packages/sklearn/utils/validation.py:761: DataConversionWarning: A column-vector y was passed when a 1d array was expected. Please change the shape of y to (n_samples, ), for example using ravel().\n",
            "  y = column_or_1d(y, warn=True)\n"
          ],
          "name": "stderr"
        },
        {
          "output_type": "stream",
          "text": [
            "Y_train: (55000, 1)\n",
            "Y_train: (10000, 1)\n",
            "prediction: (10000,)\n",
            "\n",
            " train_mat_type: 2, Accuracy by SVC (linear): 0.9839\n"
          ],
          "name": "stdout"
        },
        {
          "output_type": "stream",
          "text": [
            "/usr/local/lib/python3.6/dist-packages/sklearn/utils/validation.py:761: DataConversionWarning: A column-vector y was passed when a 1d array was expected. Please change the shape of y to (n_samples, ), for example using ravel().\n",
            "  y = column_or_1d(y, warn=True)\n"
          ],
          "name": "stderr"
        },
        {
          "output_type": "stream",
          "text": [
            "Y_train: (55000, 1)\n",
            "Y_train: (10000, 1)\n",
            "prediction: (10000,)\n",
            "\n",
            " train_mat_type: 4, Accuracy by SVC (linear): 0.9753\n"
          ],
          "name": "stdout"
        },
        {
          "output_type": "stream",
          "text": [
            "/usr/local/lib/python3.6/dist-packages/sklearn/utils/validation.py:761: DataConversionWarning: A column-vector y was passed when a 1d array was expected. Please change the shape of y to (n_samples, ), for example using ravel().\n",
            "  y = column_or_1d(y, warn=True)\n"
          ],
          "name": "stderr"
        },
        {
          "output_type": "stream",
          "text": [
            "Y_train: (55000, 1)\n",
            "Y_train: (10000, 1)\n",
            "prediction: (10000,)\n",
            "\n",
            " train_mat_type: 6, Accuracy by SVC (linear): 0.9844\n",
            "\n",
            "EPOCHS: 7\n",
            "(55000, 10) (55000, 84) (55000, 1024)\n",
            "\n",
            "Testing...\n",
            "\n",
            "Test Accuracy = 0.985\n"
          ],
          "name": "stdout"
        },
        {
          "output_type": "stream",
          "text": [
            "/usr/local/lib/python3.6/dist-packages/sklearn/utils/validation.py:761: DataConversionWarning: A column-vector y was passed when a 1d array was expected. Please change the shape of y to (n_samples, ), for example using ravel().\n",
            "  y = column_or_1d(y, warn=True)\n"
          ],
          "name": "stderr"
        },
        {
          "output_type": "stream",
          "text": [
            "Y_train: (55000, 1)\n",
            "Y_train: (10000, 1)\n",
            "prediction: (10000,)\n",
            "\n",
            " train_mat_type: 2, Accuracy by SVC (linear): 0.9845\n"
          ],
          "name": "stdout"
        },
        {
          "output_type": "stream",
          "text": [
            "/usr/local/lib/python3.6/dist-packages/sklearn/utils/validation.py:761: DataConversionWarning: A column-vector y was passed when a 1d array was expected. Please change the shape of y to (n_samples, ), for example using ravel().\n",
            "  y = column_or_1d(y, warn=True)\n"
          ],
          "name": "stderr"
        },
        {
          "output_type": "stream",
          "text": [
            "Y_train: (55000, 1)\n",
            "Y_train: (10000, 1)\n",
            "prediction: (10000,)\n",
            "\n",
            " train_mat_type: 4, Accuracy by SVC (linear): 0.9757\n"
          ],
          "name": "stdout"
        },
        {
          "output_type": "stream",
          "text": [
            "/usr/local/lib/python3.6/dist-packages/sklearn/utils/validation.py:761: DataConversionWarning: A column-vector y was passed when a 1d array was expected. Please change the shape of y to (n_samples, ), for example using ravel().\n",
            "  y = column_or_1d(y, warn=True)\n"
          ],
          "name": "stderr"
        },
        {
          "output_type": "stream",
          "text": [
            "Y_train: (55000, 1)\n",
            "Y_train: (10000, 1)\n",
            "prediction: (10000,)\n",
            "\n",
            " train_mat_type: 6, Accuracy by SVC (linear): 0.9852\n",
            "\n",
            "EPOCHS: 8\n",
            "(55000, 10) (55000, 84) (55000, 1024)\n",
            "\n",
            "Testing...\n",
            "\n",
            "Test Accuracy = 0.985\n"
          ],
          "name": "stdout"
        },
        {
          "output_type": "stream",
          "text": [
            "/usr/local/lib/python3.6/dist-packages/sklearn/utils/validation.py:761: DataConversionWarning: A column-vector y was passed when a 1d array was expected. Please change the shape of y to (n_samples, ), for example using ravel().\n",
            "  y = column_or_1d(y, warn=True)\n"
          ],
          "name": "stderr"
        },
        {
          "output_type": "stream",
          "text": [
            "Y_train: (55000, 1)\n",
            "Y_train: (10000, 1)\n",
            "prediction: (10000,)\n",
            "\n",
            " train_mat_type: 2, Accuracy by SVC (linear): 0.9853\n"
          ],
          "name": "stdout"
        },
        {
          "output_type": "stream",
          "text": [
            "/usr/local/lib/python3.6/dist-packages/sklearn/utils/validation.py:761: DataConversionWarning: A column-vector y was passed when a 1d array was expected. Please change the shape of y to (n_samples, ), for example using ravel().\n",
            "  y = column_or_1d(y, warn=True)\n"
          ],
          "name": "stderr"
        },
        {
          "output_type": "stream",
          "text": [
            "Y_train: (55000, 1)\n",
            "Y_train: (10000, 1)\n",
            "prediction: (10000,)\n",
            "\n",
            " train_mat_type: 4, Accuracy by SVC (linear): 0.9757\n"
          ],
          "name": "stdout"
        },
        {
          "output_type": "stream",
          "text": [
            "/usr/local/lib/python3.6/dist-packages/sklearn/utils/validation.py:761: DataConversionWarning: A column-vector y was passed when a 1d array was expected. Please change the shape of y to (n_samples, ), for example using ravel().\n",
            "  y = column_or_1d(y, warn=True)\n"
          ],
          "name": "stderr"
        },
        {
          "output_type": "stream",
          "text": [
            "Y_train: (55000, 1)\n",
            "Y_train: (10000, 1)\n",
            "prediction: (10000,)\n",
            "\n",
            " train_mat_type: 6, Accuracy by SVC (linear): 0.9849\n",
            "\n",
            "EPOCHS: 9\n",
            "(55000, 10) (55000, 84) (55000, 1024)\n",
            "\n",
            "Testing...\n",
            "\n",
            "Test Accuracy = 0.986\n"
          ],
          "name": "stdout"
        },
        {
          "output_type": "stream",
          "text": [
            "/usr/local/lib/python3.6/dist-packages/sklearn/utils/validation.py:761: DataConversionWarning: A column-vector y was passed when a 1d array was expected. Please change the shape of y to (n_samples, ), for example using ravel().\n",
            "  y = column_or_1d(y, warn=True)\n"
          ],
          "name": "stderr"
        },
        {
          "output_type": "stream",
          "text": [
            "Y_train: (55000, 1)\n",
            "Y_train: (10000, 1)\n",
            "prediction: (10000,)\n",
            "\n",
            " train_mat_type: 2, Accuracy by SVC (linear): 0.9855\n"
          ],
          "name": "stdout"
        },
        {
          "output_type": "stream",
          "text": [
            "/usr/local/lib/python3.6/dist-packages/sklearn/utils/validation.py:761: DataConversionWarning: A column-vector y was passed when a 1d array was expected. Please change the shape of y to (n_samples, ), for example using ravel().\n",
            "  y = column_or_1d(y, warn=True)\n"
          ],
          "name": "stderr"
        },
        {
          "output_type": "stream",
          "text": [
            "Y_train: (55000, 1)\n",
            "Y_train: (10000, 1)\n",
            "prediction: (10000,)\n",
            "\n",
            " train_mat_type: 4, Accuracy by SVC (linear): 0.9754\n"
          ],
          "name": "stdout"
        },
        {
          "output_type": "stream",
          "text": [
            "/usr/local/lib/python3.6/dist-packages/sklearn/utils/validation.py:761: DataConversionWarning: A column-vector y was passed when a 1d array was expected. Please change the shape of y to (n_samples, ), for example using ravel().\n",
            "  y = column_or_1d(y, warn=True)\n"
          ],
          "name": "stderr"
        },
        {
          "output_type": "stream",
          "text": [
            "Y_train: (55000, 1)\n",
            "Y_train: (10000, 1)\n",
            "prediction: (10000,)\n",
            "\n",
            " train_mat_type: 6, Accuracy by SVC (linear): 0.9856\n",
            "\n",
            "EPOCHS: 10\n",
            "(55000, 10) (55000, 84) (55000, 1024)\n",
            "\n",
            "Testing...\n",
            "\n",
            "Test Accuracy = 0.986\n"
          ],
          "name": "stdout"
        },
        {
          "output_type": "stream",
          "text": [
            "/usr/local/lib/python3.6/dist-packages/sklearn/utils/validation.py:761: DataConversionWarning: A column-vector y was passed when a 1d array was expected. Please change the shape of y to (n_samples, ), for example using ravel().\n",
            "  y = column_or_1d(y, warn=True)\n"
          ],
          "name": "stderr"
        },
        {
          "output_type": "stream",
          "text": [
            "Y_train: (55000, 1)\n",
            "Y_train: (10000, 1)\n",
            "prediction: (10000,)\n",
            "\n",
            " train_mat_type: 2, Accuracy by SVC (linear): 0.9861\n"
          ],
          "name": "stdout"
        },
        {
          "output_type": "stream",
          "text": [
            "/usr/local/lib/python3.6/dist-packages/sklearn/utils/validation.py:761: DataConversionWarning: A column-vector y was passed when a 1d array was expected. Please change the shape of y to (n_samples, ), for example using ravel().\n",
            "  y = column_or_1d(y, warn=True)\n"
          ],
          "name": "stderr"
        },
        {
          "output_type": "stream",
          "text": [
            "Y_train: (55000, 1)\n",
            "Y_train: (10000, 1)\n",
            "prediction: (10000,)\n",
            "\n",
            " train_mat_type: 4, Accuracy by SVC (linear): 0.9756\n"
          ],
          "name": "stdout"
        },
        {
          "output_type": "stream",
          "text": [
            "/usr/local/lib/python3.6/dist-packages/sklearn/utils/validation.py:761: DataConversionWarning: A column-vector y was passed when a 1d array was expected. Please change the shape of y to (n_samples, ), for example using ravel().\n",
            "  y = column_or_1d(y, warn=True)\n"
          ],
          "name": "stderr"
        },
        {
          "output_type": "stream",
          "text": [
            "Y_train: (55000, 1)\n",
            "Y_train: (10000, 1)\n",
            "prediction: (10000,)\n",
            "\n",
            " train_mat_type: 6, Accuracy by SVC (linear): 0.9854\n",
            "\n",
            "EPOCHS: 11\n",
            "(55000, 10) (55000, 84) (55000, 1024)\n",
            "\n",
            "Testing...\n",
            "\n",
            "Test Accuracy = 0.987\n"
          ],
          "name": "stdout"
        },
        {
          "output_type": "stream",
          "text": [
            "/usr/local/lib/python3.6/dist-packages/sklearn/utils/validation.py:761: DataConversionWarning: A column-vector y was passed when a 1d array was expected. Please change the shape of y to (n_samples, ), for example using ravel().\n",
            "  y = column_or_1d(y, warn=True)\n"
          ],
          "name": "stderr"
        },
        {
          "output_type": "stream",
          "text": [
            "Y_train: (55000, 1)\n",
            "Y_train: (10000, 1)\n",
            "prediction: (10000,)\n",
            "\n",
            " train_mat_type: 2, Accuracy by SVC (linear): 0.9866\n"
          ],
          "name": "stdout"
        },
        {
          "output_type": "stream",
          "text": [
            "/usr/local/lib/python3.6/dist-packages/sklearn/utils/validation.py:761: DataConversionWarning: A column-vector y was passed when a 1d array was expected. Please change the shape of y to (n_samples, ), for example using ravel().\n",
            "  y = column_or_1d(y, warn=True)\n"
          ],
          "name": "stderr"
        },
        {
          "output_type": "stream",
          "text": [
            "Y_train: (55000, 1)\n",
            "Y_train: (10000, 1)\n",
            "prediction: (10000,)\n",
            "\n",
            " train_mat_type: 4, Accuracy by SVC (linear): 0.9762\n"
          ],
          "name": "stdout"
        },
        {
          "output_type": "stream",
          "text": [
            "/usr/local/lib/python3.6/dist-packages/sklearn/utils/validation.py:761: DataConversionWarning: A column-vector y was passed when a 1d array was expected. Please change the shape of y to (n_samples, ), for example using ravel().\n",
            "  y = column_or_1d(y, warn=True)\n"
          ],
          "name": "stderr"
        },
        {
          "output_type": "stream",
          "text": [
            "Y_train: (55000, 1)\n",
            "Y_train: (10000, 1)\n",
            "prediction: (10000,)\n",
            "\n",
            " train_mat_type: 6, Accuracy by SVC (linear): 0.986\n",
            "\n",
            "EPOCHS: 12\n",
            "(55000, 10) (55000, 84) (55000, 1024)\n",
            "\n",
            "Testing...\n",
            "\n",
            "Test Accuracy = 0.986\n"
          ],
          "name": "stdout"
        },
        {
          "output_type": "stream",
          "text": [
            "/usr/local/lib/python3.6/dist-packages/sklearn/utils/validation.py:761: DataConversionWarning: A column-vector y was passed when a 1d array was expected. Please change the shape of y to (n_samples, ), for example using ravel().\n",
            "  y = column_or_1d(y, warn=True)\n"
          ],
          "name": "stderr"
        },
        {
          "output_type": "stream",
          "text": [
            "Y_train: (55000, 1)\n",
            "Y_train: (10000, 1)\n",
            "prediction: (10000,)\n",
            "\n",
            " train_mat_type: 2, Accuracy by SVC (linear): 0.9871\n"
          ],
          "name": "stdout"
        },
        {
          "output_type": "stream",
          "text": [
            "/usr/local/lib/python3.6/dist-packages/sklearn/utils/validation.py:761: DataConversionWarning: A column-vector y was passed when a 1d array was expected. Please change the shape of y to (n_samples, ), for example using ravel().\n",
            "  y = column_or_1d(y, warn=True)\n"
          ],
          "name": "stderr"
        },
        {
          "output_type": "stream",
          "text": [
            "Y_train: (55000, 1)\n",
            "Y_train: (10000, 1)\n",
            "prediction: (10000,)\n",
            "\n",
            " train_mat_type: 4, Accuracy by SVC (linear): 0.9757\n"
          ],
          "name": "stdout"
        },
        {
          "output_type": "stream",
          "text": [
            "/usr/local/lib/python3.6/dist-packages/sklearn/utils/validation.py:761: DataConversionWarning: A column-vector y was passed when a 1d array was expected. Please change the shape of y to (n_samples, ), for example using ravel().\n",
            "  y = column_or_1d(y, warn=True)\n"
          ],
          "name": "stderr"
        },
        {
          "output_type": "stream",
          "text": [
            "Y_train: (55000, 1)\n",
            "Y_train: (10000, 1)\n",
            "prediction: (10000,)\n",
            "\n",
            " train_mat_type: 6, Accuracy by SVC (linear): 0.9866\n",
            "\n",
            "EPOCHS: 13\n",
            "(55000, 10) (55000, 84) (55000, 1024)\n",
            "\n",
            "Testing...\n",
            "\n",
            "Test Accuracy = 0.987\n"
          ],
          "name": "stdout"
        },
        {
          "output_type": "stream",
          "text": [
            "/usr/local/lib/python3.6/dist-packages/sklearn/utils/validation.py:761: DataConversionWarning: A column-vector y was passed when a 1d array was expected. Please change the shape of y to (n_samples, ), for example using ravel().\n",
            "  y = column_or_1d(y, warn=True)\n"
          ],
          "name": "stderr"
        },
        {
          "output_type": "stream",
          "text": [
            "Y_train: (55000, 1)\n",
            "Y_train: (10000, 1)\n",
            "prediction: (10000,)\n",
            "\n",
            " train_mat_type: 2, Accuracy by SVC (linear): 0.9873\n"
          ],
          "name": "stdout"
        },
        {
          "output_type": "stream",
          "text": [
            "/usr/local/lib/python3.6/dist-packages/sklearn/utils/validation.py:761: DataConversionWarning: A column-vector y was passed when a 1d array was expected. Please change the shape of y to (n_samples, ), for example using ravel().\n",
            "  y = column_or_1d(y, warn=True)\n"
          ],
          "name": "stderr"
        },
        {
          "output_type": "stream",
          "text": [
            "Y_train: (55000, 1)\n",
            "Y_train: (10000, 1)\n",
            "prediction: (10000,)\n",
            "\n",
            " train_mat_type: 4, Accuracy by SVC (linear): 0.9762\n"
          ],
          "name": "stdout"
        },
        {
          "output_type": "stream",
          "text": [
            "/usr/local/lib/python3.6/dist-packages/sklearn/utils/validation.py:761: DataConversionWarning: A column-vector y was passed when a 1d array was expected. Please change the shape of y to (n_samples, ), for example using ravel().\n",
            "  y = column_or_1d(y, warn=True)\n"
          ],
          "name": "stderr"
        },
        {
          "output_type": "stream",
          "text": [
            "Y_train: (55000, 1)\n",
            "Y_train: (10000, 1)\n",
            "prediction: (10000,)\n",
            "\n",
            " train_mat_type: 6, Accuracy by SVC (linear): 0.9859\n",
            "\n",
            "EPOCHS: 14\n",
            "(55000, 10) (55000, 84) (55000, 1024)\n",
            "\n",
            "Testing...\n",
            "\n",
            "Test Accuracy = 0.987\n"
          ],
          "name": "stdout"
        },
        {
          "output_type": "stream",
          "text": [
            "/usr/local/lib/python3.6/dist-packages/sklearn/utils/validation.py:761: DataConversionWarning: A column-vector y was passed when a 1d array was expected. Please change the shape of y to (n_samples, ), for example using ravel().\n",
            "  y = column_or_1d(y, warn=True)\n"
          ],
          "name": "stderr"
        },
        {
          "output_type": "stream",
          "text": [
            "Y_train: (55000, 1)\n",
            "Y_train: (10000, 1)\n",
            "prediction: (10000,)\n",
            "\n",
            " train_mat_type: 2, Accuracy by SVC (linear): 0.9873\n"
          ],
          "name": "stdout"
        },
        {
          "output_type": "stream",
          "text": [
            "/usr/local/lib/python3.6/dist-packages/sklearn/utils/validation.py:761: DataConversionWarning: A column-vector y was passed when a 1d array was expected. Please change the shape of y to (n_samples, ), for example using ravel().\n",
            "  y = column_or_1d(y, warn=True)\n"
          ],
          "name": "stderr"
        },
        {
          "output_type": "stream",
          "text": [
            "Y_train: (55000, 1)\n",
            "Y_train: (10000, 1)\n",
            "prediction: (10000,)\n",
            "\n",
            " train_mat_type: 4, Accuracy by SVC (linear): 0.9759\n"
          ],
          "name": "stdout"
        },
        {
          "output_type": "stream",
          "text": [
            "/usr/local/lib/python3.6/dist-packages/sklearn/utils/validation.py:761: DataConversionWarning: A column-vector y was passed when a 1d array was expected. Please change the shape of y to (n_samples, ), for example using ravel().\n",
            "  y = column_or_1d(y, warn=True)\n"
          ],
          "name": "stderr"
        }
      ]
    },
    {
      "metadata": {
        "id": "3Bcy6ZsPd9S3",
        "colab_type": "code",
        "colab": {}
      },
      "cell_type": "code",
      "source": [
        "npz_data = np.load(\"{}-multiple-runs-{}.npz\".format(date,filename_index))"
      ],
      "execution_count": 0,
      "outputs": []
    },
    {
      "metadata": {
        "id": "mp6D4sNPd9S_",
        "colab_type": "code",
        "colab": {}
      },
      "cell_type": "code",
      "source": [
        "keys = npz_data.keys()"
      ],
      "execution_count": 0,
      "outputs": []
    },
    {
      "metadata": {
        "id": "lsHKZfxmd9TB",
        "colab_type": "code",
        "colab": {}
      },
      "cell_type": "code",
      "source": [
        "for i in keys:\n",
        "    print(i)\n",
        "    print(npz_data[i])\n",
        "    print()"
      ],
      "execution_count": 0,
      "outputs": []
    },
    {
      "metadata": {
        "id": "A2zkPzMXd9TE",
        "colab_type": "code",
        "colab": {}
      },
      "cell_type": "code",
      "source": [
        ""
      ],
      "execution_count": 0,
      "outputs": []
    }
  ]
}